{
  "cells": [
    {
      "cell_type": "code",
      "source": [
        "%%capture\n",
        "!pip install torch-geometric"
      ],
      "metadata": {
        "id": "rlfQqx0QC5Oa"
      },
      "execution_count": 15,
      "outputs": []
    },
    {
      "cell_type": "code",
      "execution_count": 16,
      "metadata": {
        "id": "4DVEWI2F4UyP"
      },
      "outputs": [],
      "source": [
        "import pandas as pd\n",
        "import numpy as np\n",
        "import torch\n",
        "from torch_geometric.data import Data\n",
        "from itertools import product"
      ]
    },
    {
      "cell_type": "code",
      "execution_count": 17,
      "metadata": {
        "id": "dRwDvQRU4UyT"
      },
      "outputs": [],
      "source": [
        "X_train = pd.read_json('arc-agi_training_challenges.json', orient='index')\n",
        "y_train = pd.read_json('arc-agi_training_solutions.json', orient='index')"
      ]
    },
    {
      "cell_type": "code",
      "source": [
        "''' This function will take the rows of the above X_train, and split\n",
        "the data into different inputs and outputs of the training example, before\n",
        "providing the test example'''\n",
        "\n",
        "def split_data(row):\n",
        "  inputs = []\n",
        "  outputs = []\n",
        "  for element in row:\n",
        "    inputs.append(element['input'])\n",
        "    outputs.append(element['output'])\n",
        "  return pd.Series({'input': inputs, 'output': outputs})\n"
      ],
      "metadata": {
        "id": "kGELY_DI6BMU"
      },
      "execution_count": 18,
      "outputs": []
    },
    {
      "cell_type": "code",
      "source": [
        "## Seperate input and output into seperate columns\n",
        "X_train = pd.concat([X_train, X_train['train'].apply(split_data)], axis=1)"
      ],
      "metadata": {
        "id": "zPfbyNZD7Vbs"
      },
      "execution_count": 19,
      "outputs": []
    },
    {
      "cell_type": "code",
      "source": [
        "X_train = X_train[[\"input\", \"output\", \"test\"]]"
      ],
      "metadata": {
        "id": "AVHAIjxtIujp"
      },
      "execution_count": 20,
      "outputs": []
    },
    {
      "cell_type": "code",
      "source": [
        "'''This function will split each input and output for a corresponding\n",
        "reasoning task, it will also refine the test column'''\n",
        "\n",
        "def format_data(data):\n",
        "  new_data = data.explode('input').explode('output')\n",
        "  new_data['test'] = new_data['test'].apply(lambda x: x[0]['input'])\n",
        "  return new_data"
      ],
      "metadata": {
        "id": "_FiisiLNHD6s"
      },
      "execution_count": 21,
      "outputs": []
    },
    {
      "cell_type": "code",
      "source": [
        "X_train = format_data(X_train)"
      ],
      "metadata": {
        "id": "domEYRq3KSbn"
      },
      "execution_count": 22,
      "outputs": []
    },
    {
      "cell_type": "code",
      "source": [
        "def create_data_object(row):\n",
        "  # Define your 2D array and the corresponding colors array\n",
        "  colors = np.array(row)\n",
        "  print(colors)\n",
        "\n",
        "  array = np.arange(colors.shape[0] * colors.shape[1]).reshape(colors.shape[0],\n",
        "                                                               colors.shape[1])\n",
        "  # Function to create edges with diagonal connections\n",
        "  def create_edges_2d_with_diagonals(array):\n",
        "      rows = len(array)\n",
        "      cols = len(array[0])\n",
        "      edges = []\n",
        "\n",
        "      for i in range(rows):\n",
        "          for j in range(cols):\n",
        "              for di in [-1, 0, 1]:\n",
        "                  for dj in [-1, 0, 1]:\n",
        "                      if di == 0 and dj == 0:\n",
        "                          continue\n",
        "                      ni, nj = i + di, j + dj\n",
        "                      if 0 <= ni < rows and 0 <= nj < cols:\n",
        "                          edges.append((i * cols + j, ni * cols + nj))\n",
        "\n",
        "      return edges\n",
        "\n",
        "  # Create edges\n",
        "  edges = create_edges_2d_with_diagonals(array)\n",
        "\n",
        "  # Flatten the colors array to create node features\n",
        "  node_features = colors.flatten().reshape(-1, 1)\n",
        "\n",
        "  # Convert to PyTorch tensors\n",
        "  edge_index = torch.tensor(edges, dtype=torch.long).t().contiguous()\n",
        "  x = torch.tensor(node_features, dtype=torch.float)\n",
        "\n",
        "  # Create the PyTorch Geometric Data object\n",
        "  data = Data(x=x, edge_index=edge_index)\n",
        "\n",
        "  return data"
      ],
      "metadata": {
        "id": "loAa3oBRCV-O"
      },
      "execution_count": 37,
      "outputs": []
    },
    {
      "cell_type": "code",
      "source": [
        "one_example = create_data_object(X_train['input'][0])"
      ],
      "metadata": {
        "id": "RX_28TopDfEi",
        "outputId": "609c733c-fc35-450b-ba9e-dc16955601f1",
        "colab": {
          "base_uri": "https://localhost:8080/"
        }
      },
      "execution_count": 38,
      "outputs": [
        {
          "output_type": "stream",
          "name": "stdout",
          "text": [
            "[[0 7 7]\n",
            " [7 7 7]\n",
            " [0 7 7]]\n"
          ]
        },
        {
          "output_type": "stream",
          "name": "stderr",
          "text": [
            "<ipython-input-38-fd45aa2110d2>:1: FutureWarning: Series.__getitem__ treating keys as positions is deprecated. In a future version, integer keys will always be treated as labels (consistent with DataFrame behavior). To access a value by position, use `ser.iloc[pos]`\n",
            "  one_example = create_data_object(X_train['input'][0])\n"
          ]
        }
      ]
    },
    {
      "cell_type": "code",
      "source": [],
      "metadata": {
        "id": "XFVLYhzRI7ix"
      },
      "execution_count": null,
      "outputs": []
    }
  ],
  "metadata": {
    "language_info": {
      "name": "python"
    },
    "colab": {
      "provenance": []
    },
    "kernelspec": {
      "name": "python3",
      "display_name": "Python 3"
    }
  },
  "nbformat": 4,
  "nbformat_minor": 0
}